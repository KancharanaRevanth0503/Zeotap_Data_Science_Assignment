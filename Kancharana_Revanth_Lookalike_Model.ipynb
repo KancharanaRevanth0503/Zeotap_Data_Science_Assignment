{
  "nbformat": 4,
  "nbformat_minor": 0,
  "metadata": {
    "colab": {
      "provenance": []
    },
    "kernelspec": {
      "name": "python3",
      "display_name": "Python 3"
    },
    "language_info": {
      "name": "python"
    }
  },
  "cells": [
    {
      "cell_type": "markdown",
      "source": [
        "**Task 2: Lookalike Model**"
      ],
      "metadata": {
        "id": "M9fkCb77p-TZ"
      }
    },
    {
      "cell_type": "markdown",
      "source": [
        "**Step 1: Setting Up Google Colab**"
      ],
      "metadata": {
        "id": "LLNcZGDHqEi9"
      }
    },
    {
      "cell_type": "markdown",
      "source": [
        "**Connect to Google Drive**"
      ],
      "metadata": {
        "id": "cCQ93PZ-qonJ"
      }
    },
    {
      "cell_type": "code",
      "source": [
        "from google.colab import drive\n",
        "drive.mount('/content/drive')"
      ],
      "metadata": {
        "colab": {
          "base_uri": "https://localhost:8080/"
        },
        "id": "GlH_UAVBqp0i",
        "outputId": "08161aa1-c148-44b6-bf94-6edfcf931eb3"
      },
      "execution_count": 7,
      "outputs": [
        {
          "output_type": "stream",
          "name": "stdout",
          "text": [
            "Mounted at /content/drive\n"
          ]
        }
      ]
    },
    {
      "cell_type": "markdown",
      "source": [
        "**Navigate to Your Dataset Folder**"
      ],
      "metadata": {
        "id": "IAFyk0osq21y"
      }
    },
    {
      "cell_type": "code",
      "source": [
        "import os\n",
        "os.listdir(\"/content/drive/My Drive/Zeotap/\")"
      ],
      "metadata": {
        "colab": {
          "base_uri": "https://localhost:8080/"
        },
        "id": "lzGUxGegq4k_",
        "outputId": "cf4b4352-2cec-462a-ae0e-ad86999dc672"
      },
      "execution_count": 8,
      "outputs": [
        {
          "output_type": "execute_result",
          "data": {
            "text/plain": [
              "['Customers.csv',\n",
              " 'Products.csv',\n",
              " 'Transactions.csv',\n",
              " 'EDA_Report.txt',\n",
              " 'Merged file.csv']"
            ]
          },
          "metadata": {},
          "execution_count": 8
        }
      ]
    },
    {
      "cell_type": "markdown",
      "source": [
        "**Step 2: Install Required Libraries**"
      ],
      "metadata": {
        "id": "t2jBxBDLrBQQ"
      }
    },
    {
      "cell_type": "code",
      "source": [
        "!pip install pandas numpy matplotlib seaborn scikit-learn"
      ],
      "metadata": {
        "colab": {
          "base_uri": "https://localhost:8080/"
        },
        "id": "wB6QKDNrrCRo",
        "outputId": "750adc0d-a190-4e5e-ac8a-69bdd0dea248"
      },
      "execution_count": 9,
      "outputs": [
        {
          "output_type": "stream",
          "name": "stdout",
          "text": [
            "Requirement already satisfied: pandas in /usr/local/lib/python3.11/dist-packages (2.2.2)\n",
            "Requirement already satisfied: numpy in /usr/local/lib/python3.11/dist-packages (1.26.4)\n",
            "Requirement already satisfied: matplotlib in /usr/local/lib/python3.11/dist-packages (3.10.0)\n",
            "Requirement already satisfied: seaborn in /usr/local/lib/python3.11/dist-packages (0.13.2)\n",
            "Requirement already satisfied: scikit-learn in /usr/local/lib/python3.11/dist-packages (1.6.1)\n",
            "Requirement already satisfied: python-dateutil>=2.8.2 in /usr/local/lib/python3.11/dist-packages (from pandas) (2.8.2)\n",
            "Requirement already satisfied: pytz>=2020.1 in /usr/local/lib/python3.11/dist-packages (from pandas) (2024.2)\n",
            "Requirement already satisfied: tzdata>=2022.7 in /usr/local/lib/python3.11/dist-packages (from pandas) (2025.1)\n",
            "Requirement already satisfied: contourpy>=1.0.1 in /usr/local/lib/python3.11/dist-packages (from matplotlib) (1.3.1)\n",
            "Requirement already satisfied: cycler>=0.10 in /usr/local/lib/python3.11/dist-packages (from matplotlib) (0.12.1)\n",
            "Requirement already satisfied: fonttools>=4.22.0 in /usr/local/lib/python3.11/dist-packages (from matplotlib) (4.55.6)\n",
            "Requirement already satisfied: kiwisolver>=1.3.1 in /usr/local/lib/python3.11/dist-packages (from matplotlib) (1.4.8)\n",
            "Requirement already satisfied: packaging>=20.0 in /usr/local/lib/python3.11/dist-packages (from matplotlib) (24.2)\n",
            "Requirement already satisfied: pillow>=8 in /usr/local/lib/python3.11/dist-packages (from matplotlib) (11.1.0)\n",
            "Requirement already satisfied: pyparsing>=2.3.1 in /usr/local/lib/python3.11/dist-packages (from matplotlib) (3.2.1)\n",
            "Requirement already satisfied: scipy>=1.6.0 in /usr/local/lib/python3.11/dist-packages (from scikit-learn) (1.13.1)\n",
            "Requirement already satisfied: joblib>=1.2.0 in /usr/local/lib/python3.11/dist-packages (from scikit-learn) (1.4.2)\n",
            "Requirement already satisfied: threadpoolctl>=3.1.0 in /usr/local/lib/python3.11/dist-packages (from scikit-learn) (3.5.0)\n",
            "Requirement already satisfied: six>=1.5 in /usr/local/lib/python3.11/dist-packages (from python-dateutil>=2.8.2->pandas) (1.17.0)\n"
          ]
        }
      ]
    },
    {
      "cell_type": "markdown",
      "source": [
        "**Step 3: Load the Data**"
      ],
      "metadata": {
        "id": "1riZlmiA37vP"
      }
    },
    {
      "cell_type": "code",
      "source": [
        "import pandas as pd\n",
        "\n",
        "# Define the path to your dataset folder\n",
        "dataset_folder = \"/content/drive/My Drive/Zeotap/\"\n",
        "\n",
        "# Load the datasets using the full path\n",
        "customers = pd.read_csv(dataset_folder + \"Customers.csv\")\n",
        "products = pd.read_csv(dataset_folder + \"Products.csv\")\n",
        "transactions = pd.read_csv(dataset_folder + \"Transactions.csv\")\n",
        "\n",
        "# Display first few rows\n",
        "print(customers.head())\n",
        "print(products.head())\n",
        "print(transactions.head())"
      ],
      "metadata": {
        "colab": {
          "base_uri": "https://localhost:8080/"
        },
        "id": "QxlRPuaY3_gl",
        "outputId": "b64da4e4-dfc8-4d44-9748-1baa528007e6"
      },
      "execution_count": 11,
      "outputs": [
        {
          "output_type": "stream",
          "name": "stdout",
          "text": [
            "  CustomerID        CustomerName         Region  SignupDate\n",
            "0      C0001    Lawrence Carroll  South America  2022-07-10\n",
            "1      C0002      Elizabeth Lutz           Asia  2022-02-13\n",
            "2      C0003      Michael Rivera  South America  2024-03-07\n",
            "3      C0004  Kathleen Rodriguez  South America  2022-10-09\n",
            "4      C0005         Laura Weber           Asia  2022-08-15\n",
            "  ProductID              ProductName     Category   Price\n",
            "0      P001     ActiveWear Biography        Books  169.30\n",
            "1      P002    ActiveWear Smartwatch  Electronics  346.30\n",
            "2      P003  ComfortLiving Biography        Books   44.12\n",
            "3      P004            BookWorld Rug   Home Decor   95.69\n",
            "4      P005          TechPro T-Shirt     Clothing  429.31\n",
            "  TransactionID CustomerID ProductID      TransactionDate  Quantity  \\\n",
            "0        T00001      C0199      P067  2024-08-25 12:38:23         1   \n",
            "1        T00112      C0146      P067  2024-05-27 22:23:54         1   \n",
            "2        T00166      C0127      P067   2024-04-25 7:38:55         1   \n",
            "3        T00272      C0087      P067  2024-03-26 22:55:37         2   \n",
            "4        T00363      C0070      P067  2024-03-21 15:10:10         3   \n",
            "\n",
            "   TotalValue   Price  \n",
            "0      300.68  300.68  \n",
            "1      300.68  300.68  \n",
            "2      300.68  300.68  \n",
            "3      601.36  300.68  \n",
            "4      902.04  300.68  \n"
          ]
        }
      ]
    },
    {
      "cell_type": "markdown",
      "source": [
        "**Step 4: Data Preprocessing**"
      ],
      "metadata": {
        "id": "BQa8uaaK61EQ"
      }
    },
    {
      "cell_type": "code",
      "source": [
        "# Merge transactions with products to get product details\n",
        "transactions = transactions.merge(products, on=\"ProductID\", how=\"left\")\n",
        "\n",
        "# Merge transactions with customers to get customer details\n",
        "data = transactions.merge(customers, on=\"CustomerID\", how=\"left\")\n",
        "\n",
        "# Display first few rows\n",
        "print(data.head())\n"
      ],
      "metadata": {
        "colab": {
          "base_uri": "https://localhost:8080/"
        },
        "id": "kvc8IOWg4dex",
        "outputId": "c9ef43c4-43e4-4d9b-a6a4-9199587d8fd9"
      },
      "execution_count": 12,
      "outputs": [
        {
          "output_type": "stream",
          "name": "stdout",
          "text": [
            "  TransactionID CustomerID ProductID      TransactionDate  Quantity  \\\n",
            "0        T00001      C0199      P067  2024-08-25 12:38:23         1   \n",
            "1        T00112      C0146      P067  2024-05-27 22:23:54         1   \n",
            "2        T00166      C0127      P067   2024-04-25 7:38:55         1   \n",
            "3        T00272      C0087      P067  2024-03-26 22:55:37         2   \n",
            "4        T00363      C0070      P067  2024-03-21 15:10:10         3   \n",
            "\n",
            "   TotalValue  Price_x                      ProductName     Category  Price_y  \\\n",
            "0      300.68   300.68  ComfortLiving Bluetooth Speaker  Electronics   300.68   \n",
            "1      300.68   300.68  ComfortLiving Bluetooth Speaker  Electronics   300.68   \n",
            "2      300.68   300.68  ComfortLiving Bluetooth Speaker  Electronics   300.68   \n",
            "3      601.36   300.68  ComfortLiving Bluetooth Speaker  Electronics   300.68   \n",
            "4      902.04   300.68  ComfortLiving Bluetooth Speaker  Electronics   300.68   \n",
            "\n",
            "      CustomerName         Region  SignupDate  \n",
            "0   Andrea Jenkins         Europe  2022-12-03  \n",
            "1  Brittany Harvey           Asia  2024-09-04  \n",
            "2  Kathryn Stevens         Europe  2024-04-04  \n",
            "3  Travis Campbell  South America  2024-04-11  \n",
            "4    Timothy Perez         Europe  2022-03-15  \n"
          ]
        }
      ]
    },
    {
      "cell_type": "markdown",
      "source": [
        "**Step 5: Feature Engineering**"
      ],
      "metadata": {
        "id": "GYIviEu1665B"
      }
    },
    {
      "cell_type": "code",
      "source": [
        "# Aggregating transaction history per customer\n",
        "customer_profile = data.groupby(\"CustomerID\").agg({\n",
        "    \"TotalValue\": \"sum\",  # Total spending\n",
        "    \"Quantity\": \"sum\",    # Total products purchased\n",
        "    \"Category\": lambda x: list(x),  # List of categories purchased\n",
        "    \"Region\": \"first\"  # Customer location\n",
        "}).reset_index()\n",
        "\n",
        "print(customer_profile.head())\n"
      ],
      "metadata": {
        "colab": {
          "base_uri": "https://localhost:8080/"
        },
        "id": "0E5Pbmf74hWm",
        "outputId": "326b368b-67ec-4ff8-e103-bc9e35b5685d"
      },
      "execution_count": 13,
      "outputs": [
        {
          "output_type": "stream",
          "name": "stdout",
          "text": [
            "  CustomerID  TotalValue  Quantity  \\\n",
            "0      C0001     3354.52        12   \n",
            "1      C0002     1862.74        10   \n",
            "2      C0003     2725.38        14   \n",
            "3      C0004     5354.88        23   \n",
            "4      C0005     2034.24         7   \n",
            "\n",
            "                                            Category         Region  \n",
            "0  [Books, Home Decor, Electronics, Electronics, ...  South America  \n",
            "1       [Home Decor, Home Decor, Clothing, Clothing]           Asia  \n",
            "2    [Home Decor, Home Decor, Clothing, Electronics]  South America  \n",
            "3  [Books, Home Decor, Home Decor, Home Decor, Bo...  South America  \n",
            "4             [Home Decor, Electronics, Electronics]           Asia  \n"
          ]
        }
      ]
    },
    {
      "cell_type": "markdown",
      "source": [
        "**Step 6: Encode Categorical Variables**"
      ],
      "metadata": {
        "id": "k4mjZLMH6_nB"
      }
    },
    {
      "cell_type": "code",
      "source": [
        "from sklearn.preprocessing import MultiLabelBinarizer, LabelEncoder\n",
        "\n",
        "# Encoding region\n",
        "le = LabelEncoder()\n",
        "customer_profile[\"Region\"] = le.fit_transform(customer_profile[\"Region\"])\n",
        "\n",
        "# Encoding category using MultiLabelBinarizer\n",
        "mlb = MultiLabelBinarizer()\n",
        "category_encoded = pd.DataFrame(mlb.fit_transform(customer_profile[\"Category\"]),\n",
        "                                columns=mlb.classes_)\n",
        "\n",
        "# Concatenating encoded category data\n",
        "customer_profile = pd.concat([customer_profile.drop(\"Category\", axis=1), category_encoded], axis=1)\n",
        "\n",
        "print(customer_profile.head())\n"
      ],
      "metadata": {
        "colab": {
          "base_uri": "https://localhost:8080/"
        },
        "id": "D91H6xfw4kCc",
        "outputId": "993b7854-b9e5-4fe1-8989-89b8a7de2750"
      },
      "execution_count": 14,
      "outputs": [
        {
          "output_type": "stream",
          "name": "stdout",
          "text": [
            "  CustomerID  TotalValue  Quantity  Region  Books  Clothing  Electronics  \\\n",
            "0      C0001     3354.52        12       3      1         0            1   \n",
            "1      C0002     1862.74        10       0      0         1            0   \n",
            "2      C0003     2725.38        14       3      0         1            1   \n",
            "3      C0004     5354.88        23       3      1         0            1   \n",
            "4      C0005     2034.24         7       0      0         0            1   \n",
            "\n",
            "   Home Decor  \n",
            "0           1  \n",
            "1           1  \n",
            "2           1  \n",
            "3           1  \n",
            "4           1  \n"
          ]
        }
      ]
    },
    {
      "cell_type": "markdown",
      "source": [
        "**Step 7: Compute Customer Similarity**"
      ],
      "metadata": {
        "id": "CQHvJeMf7FFL"
      }
    },
    {
      "cell_type": "code",
      "source": [
        "from sklearn.metrics.pairwise import cosine_similarity\n",
        "\n",
        "# Compute similarity matrix\n",
        "similarity_matrix = cosine_similarity(customer_profile.drop(columns=[\"CustomerID\"]))\n",
        "\n",
        "# Convert similarity matrix into a DataFrame\n",
        "similarity_df = pd.DataFrame(similarity_matrix, index=customer_profile[\"CustomerID\"], columns=customer_profile[\"CustomerID\"])\n",
        "\n",
        "print(similarity_df.head())\n"
      ],
      "metadata": {
        "colab": {
          "base_uri": "https://localhost:8080/"
        },
        "id": "OI8FKdiN4pop",
        "outputId": "936b568b-7ba7-49ce-e11e-37ce86c2f6a7"
      },
      "execution_count": 15,
      "outputs": [
        {
          "output_type": "stream",
          "name": "stdout",
          "text": [
            "CustomerID     C0001     C0002     C0003     C0004     C0005     C0006  \\\n",
            "CustomerID                                                               \n",
            "C0001       1.000000  0.999998  0.999999  1.000000  1.000000  1.000000   \n",
            "C0002       0.999998  1.000000  0.999999  0.999999  0.999998  0.999996   \n",
            "C0003       0.999999  0.999999  1.000000  0.999999  0.999998  0.999997   \n",
            "C0004       1.000000  0.999999  0.999999  1.000000  0.999999  0.999999   \n",
            "C0005       1.000000  0.999998  0.999998  0.999999  1.000000  0.999999   \n",
            "\n",
            "CustomerID     C0007     C0008     C0009     C0010  ...     C0191     C0192  \\\n",
            "CustomerID                                          ...                       \n",
            "C0001       0.999999  0.999999  0.999999  0.999994  ...  1.000000  1.000000   \n",
            "C0002       0.999997  1.000000  0.999996  0.999998  ...  0.999998  0.999997   \n",
            "C0003       0.999997  1.000000  0.999998  0.999998  ...  0.999999  0.999999   \n",
            "C0004       0.999999  1.000000  0.999998  0.999996  ...  1.000000  0.999999   \n",
            "C0005       1.000000  0.999999  0.999998  0.999993  ...  0.999999  0.999999   \n",
            "\n",
            "CustomerID     C0193     C0194     C0195     C0196     C0197     C0198  \\\n",
            "CustomerID                                                               \n",
            "C0001       1.000000  1.000000  1.000000  0.999999  0.999999  0.999999   \n",
            "C0002       0.999998  0.999998  0.999999  0.999995  0.999999  0.999996   \n",
            "C0003       0.999998  0.999999  0.999999  0.999996  1.000000  0.999998   \n",
            "C0004       1.000000  1.000000  1.000000  0.999998  1.000000  0.999998   \n",
            "C0005       1.000000  1.000000  0.999999  0.999999  0.999999  0.999999   \n",
            "\n",
            "CustomerID     C0199     C0200  \n",
            "CustomerID                      \n",
            "C0001       0.999999  1.000000  \n",
            "C0002       0.999999  0.999998  \n",
            "C0003       1.000000  0.999998  \n",
            "C0004       1.000000  0.999999  \n",
            "C0005       0.999999  1.000000  \n",
            "\n",
            "[5 rows x 199 columns]\n"
          ]
        }
      ]
    },
    {
      "cell_type": "markdown",
      "source": [
        "**Step 8: Recommend Top 3 Lookalikes**"
      ],
      "metadata": {
        "id": "MNLb9rCg7LK4"
      }
    },
    {
      "cell_type": "code",
      "source": [
        "lookalikes = {}\n",
        "\n",
        "for customer in customer_profile[\"CustomerID\"]:\n",
        "    similar_customers = similarity_df[customer].nlargest(4).iloc[1:]  # Top 3 excluding self\n",
        "    formatted_lookalikes = \", \".join([f\"{cust}:{score:.4f}\" for cust, score in zip(similar_customers.index, similar_customers.values)])\n",
        "\n",
        "    lookalikes[customer] = formatted_lookalikes\n",
        "\n",
        "# Convert to DataFrame\n",
        "lookalike_df = pd.DataFrame(lookalikes.items(), columns=[\"CustomerID\", \"Lookalikes\"])\n",
        "\n",
        "# Save as CSV\n",
        "lookalike_df.to_csv(\"Lookalike_Corrected.csv\", index=False)\n",
        "\n",
        "# Display first few rows\n",
        "print(lookalike_df.head())\n"
      ],
      "metadata": {
        "colab": {
          "base_uri": "https://localhost:8080/"
        },
        "id": "6kd5xcOW4uLc",
        "outputId": "c9dbee51-a8eb-47e3-97bd-f99a8777745f"
      },
      "execution_count": 20,
      "outputs": [
        {
          "output_type": "stream",
          "name": "stdout",
          "text": [
            "  CustomerID                                Lookalikes\n",
            "0      C0001  C0191:1.0000, C0035:1.0000, C0012:1.0000\n",
            "1      C0002  C0134:1.0000, C0062:1.0000, C0109:1.0000\n",
            "2      C0003  C0031:1.0000, C0147:1.0000, C0190:1.0000\n",
            "3      C0004  C0169:1.0000, C0039:1.0000, C0165:1.0000\n",
            "4      C0005  C0007:1.0000, C0069:1.0000, C0177:1.0000\n"
          ]
        }
      ]
    },
    {
      "cell_type": "markdown",
      "source": [
        "**Step 9: Save the Lookalike Recommendations**"
      ],
      "metadata": {
        "id": "Btx-fbpM7VAo"
      }
    },
    {
      "cell_type": "code",
      "source": [
        "# Save as CSV\n",
        "lookalike_df.to_csv(\"Lookalike.csv\", index=False)"
      ],
      "metadata": {
        "id": "qLlLAQUV4xMU"
      },
      "execution_count": 21,
      "outputs": []
    },
    {
      "cell_type": "markdown",
      "source": [
        "**Step 10: Download Lookalike.csv File**"
      ],
      "metadata": {
        "id": "knNxcB1v7bSm"
      }
    },
    {
      "cell_type": "code",
      "source": [
        "from google.colab import files\n",
        "files.download(\"Lookalike.csv\")"
      ],
      "metadata": {
        "colab": {
          "base_uri": "https://localhost:8080/",
          "height": 17
        },
        "id": "6dlqHbJ_5U1Z",
        "outputId": "753ee6d8-33a6-40dd-a652-98f455a6cce8"
      },
      "execution_count": 23,
      "outputs": [
        {
          "output_type": "display_data",
          "data": {
            "text/plain": [
              "<IPython.core.display.Javascript object>"
            ],
            "application/javascript": [
              "\n",
              "    async function download(id, filename, size) {\n",
              "      if (!google.colab.kernel.accessAllowed) {\n",
              "        return;\n",
              "      }\n",
              "      const div = document.createElement('div');\n",
              "      const label = document.createElement('label');\n",
              "      label.textContent = `Downloading \"${filename}\": `;\n",
              "      div.appendChild(label);\n",
              "      const progress = document.createElement('progress');\n",
              "      progress.max = size;\n",
              "      div.appendChild(progress);\n",
              "      document.body.appendChild(div);\n",
              "\n",
              "      const buffers = [];\n",
              "      let downloaded = 0;\n",
              "\n",
              "      const channel = await google.colab.kernel.comms.open(id);\n",
              "      // Send a message to notify the kernel that we're ready.\n",
              "      channel.send({})\n",
              "\n",
              "      for await (const message of channel.messages) {\n",
              "        // Send a message to notify the kernel that we're ready.\n",
              "        channel.send({})\n",
              "        if (message.buffers) {\n",
              "          for (const buffer of message.buffers) {\n",
              "            buffers.push(buffer);\n",
              "            downloaded += buffer.byteLength;\n",
              "            progress.value = downloaded;\n",
              "          }\n",
              "        }\n",
              "      }\n",
              "      const blob = new Blob(buffers, {type: 'application/binary'});\n",
              "      const a = document.createElement('a');\n",
              "      a.href = window.URL.createObjectURL(blob);\n",
              "      a.download = filename;\n",
              "      div.appendChild(a);\n",
              "      a.click();\n",
              "      div.remove();\n",
              "    }\n",
              "  "
            ]
          },
          "metadata": {}
        },
        {
          "output_type": "display_data",
          "data": {
            "text/plain": [
              "<IPython.core.display.Javascript object>"
            ],
            "application/javascript": [
              "download(\"download_f07f9297-9dc5-47d2-8c1f-47956993510e\", \"Lookalike.csv\", 9773)"
            ]
          },
          "metadata": {}
        }
      ]
    }
  ]
}